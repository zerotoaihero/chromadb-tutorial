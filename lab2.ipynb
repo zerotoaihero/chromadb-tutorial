{
 "cells": [
  {
   "cell_type": "markdown",
   "metadata": {},
   "source": [
    "**Get the Chroma Db client**"
   ]
  },
  {
   "cell_type": "code",
   "execution_count": 55,
   "metadata": {},
   "outputs": [],
   "source": [
    "import chromadb\n",
    "chroma_client = chromadb.Client()"
   ]
  },
  {
   "cell_type": "markdown",
   "metadata": {},
   "source": [
    "**Get or Create collection**"
   ]
  },
  {
   "cell_type": "code",
   "execution_count": 56,
   "metadata": {},
   "outputs": [],
   "source": [
    "#collection = chroma_client.create_collection(name=\"products\")\n",
    "collection = chroma_client.get_or_create_collection(name=\"products\")"
   ]
  },
  {
   "cell_type": "markdown",
   "metadata": {},
   "source": [
    "**list of the first 10 items in the collection**"
   ]
  },
  {
   "cell_type": "code",
   "execution_count": 57,
   "metadata": {},
   "outputs": [
    {
     "data": {
      "text/plain": [
       "{'ids': [],\n",
       " 'embeddings': [],\n",
       " 'metadatas': [],\n",
       " 'documents': [],\n",
       " 'uris': None,\n",
       " 'data': None}"
      ]
     },
     "execution_count": 57,
     "metadata": {},
     "output_type": "execute_result"
    }
   ],
   "source": [
    "collection.peek()"
   ]
  },
  {
   "cell_type": "markdown",
   "metadata": {},
   "source": [
    "**Total number of items in the collection**"
   ]
  },
  {
   "cell_type": "code",
   "execution_count": 58,
   "metadata": {},
   "outputs": [
    {
     "data": {
      "text/plain": [
       "0"
      ]
     },
     "execution_count": 58,
     "metadata": {},
     "output_type": "execute_result"
    }
   ],
   "source": [
    "collection.count()"
   ]
  },
  {
   "cell_type": "markdown",
   "metadata": {},
   "source": [
    "**Rename a collection**"
   ]
  },
  {
   "cell_type": "code",
   "execution_count": 59,
   "metadata": {},
   "outputs": [],
   "source": [
    "collection.modify(name=\"product_collection\")"
   ]
  },
  {
   "cell_type": "markdown",
   "metadata": {},
   "source": [
    "**Read the product_list array and create documents, metadatas and ids**"
   ]
  },
  {
   "cell_type": "code",
   "execution_count": 60,
   "metadata": {},
   "outputs": [],
   "source": [
    "import json\n",
    "with open('products.json', 'r') as f:\n",
    "    data = f.read()\n",
    "product_list = json.loads(data)"
   ]
  },
  {
   "cell_type": "code",
   "execution_count": 61,
   "metadata": {},
   "outputs": [],
   "source": [
    "documents = []\n",
    "metadatas = []\n",
    "ids = []\n",
    "for product in product_list:\n",
    "    documents.append(product['text'])\n",
    "    metadatas.append(product['metadata'])\n",
    "    ids.append(product['id'])"
   ]
  },
  {
   "cell_type": "markdown",
   "metadata": {},
   "source": [
    "**Add documents to the collection**"
   ]
  },
  {
   "cell_type": "code",
   "execution_count": 62,
   "metadata": {},
   "outputs": [
    {
     "name": "stderr",
     "output_type": "stream",
     "text": [
      "Context leak detected, msgtracer returned -1\n",
      "Context leak detected, msgtracer returned -1\n",
      "Context leak detected, msgtracer returned -1\n",
      "Context leak detected, msgtracer returned -1\n",
      "Context leak detected, msgtracer returned -1\n",
      "Context leak detected, msgtracer returned -1\n",
      "Context leak detected, msgtracer returned -1\n",
      "Context leak detected, msgtracer returned -1\n",
      "Context leak detected, msgtracer returned -1\n",
      "Context leak detected, msgtracer returned -1\n",
      "Context leak detected, msgtracer returned -1\n",
      "Context leak detected, msgtracer returned -1\n",
      "Context leak detected, msgtracer returned -1\n",
      "Context leak detected, msgtracer returned -1\n",
      "Context leak detected, msgtracer returned -1\n",
      "Context leak detected, msgtracer returned -1\n",
      "Context leak detected, msgtracer returned -1\n",
      "Context leak detected, msgtracer returned -1\n",
      "Context leak detected, msgtracer returned -1\n",
      "Context leak detected, msgtracer returned -1\n",
      "Context leak detected, msgtracer returned -1\n",
      "Context leak detected, msgtracer returned -1\n",
      "Context leak detected, msgtracer returned -1\n",
      "Context leak detected, msgtracer returned -1\n",
      "Context leak detected, msgtracer returned -1\n",
      "Context leak detected, msgtracer returned -1\n",
      "Context leak detected, msgtracer returned -1\n",
      "Context leak detected, msgtracer returned -1\n",
      "Context leak detected, msgtracer returned -1\n",
      "Context leak detected, msgtracer returned -1\n",
      "Context leak detected, msgtracer returned -1\n",
      "Context leak detected, msgtracer returned -1\n",
      "Context leak detected, msgtracer returned -1\n",
      "Context leak detected, msgtracer returned -1\n",
      "Context leak detected, msgtracer returned -1\n",
      "Context leak detected, msgtracer returned -1\n",
      "Context leak detected, msgtracer returned -1\n",
      "Context leak detected, msgtracer returned -1\n",
      "Context leak detected, msgtracer returned -1\n",
      "Context leak detected, msgtracer returned -1\n",
      "Context leak detected, msgtracer returned -1\n",
      "Context leak detected, msgtracer returned -1\n",
      "Context leak detected, msgtracer returned -1\n",
      "Context leak detected, msgtracer returned -1\n",
      "Context leak detected, msgtracer returned -1\n",
      "Context leak detected, msgtracer returned -1\n",
      "Context leak detected, msgtracer returned -1\n",
      "Context leak detected, msgtracer returned -1\n",
      "Context leak detected, msgtracer returned -1\n",
      "Context leak detected, msgtracer returned -1\n",
      "Context leak detected, msgtracer returned -1\n",
      "Context leak detected, msgtracer returned -1\n",
      "Context leak detected, msgtracer returned -1\n",
      "Context leak detected, msgtracer returned -1\n",
      "Context leak detected, msgtracer returned -1\n",
      "Context leak detected, msgtracer returned -1\n",
      "Context leak detected, msgtracer returned -1\n",
      "Context leak detected, msgtracer returned -1\n",
      "Context leak detected, msgtracer returned -1\n",
      "Context leak detected, msgtracer returned -1\n",
      "Context leak detected, msgtracer returned -1\n",
      "Context leak detected, msgtracer returned -1\n",
      "Context leak detected, msgtracer returned -1\n",
      "Context leak detected, msgtracer returned -1\n",
      "Context leak detected, msgtracer returned -1\n",
      "Context leak detected, msgtracer returned -1\n",
      "Context leak detected, msgtracer returned -1\n",
      "Context leak detected, msgtracer returned -1\n",
      "Context leak detected, msgtracer returned -1\n",
      "Context leak detected, msgtracer returned -1\n",
      "Context leak detected, msgtracer returned -1\n",
      "Context leak detected, msgtracer returned -1\n",
      "Context leak detected, msgtracer returned -1\n",
      "Context leak detected, msgtracer returned -1\n",
      "Context leak detected, msgtracer returned -1\n",
      "Context leak detected, msgtracer returned -1\n",
      "Context leak detected, msgtracer returned -1\n",
      "Context leak detected, msgtracer returned -1\n",
      "Context leak detected, msgtracer returned -1\n",
      "Context leak detected, msgtracer returned -1\n",
      "Context leak detected, msgtracer returned -1\n",
      "Context leak detected, msgtracer returned -1\n",
      "Context leak detected, msgtracer returned -1\n",
      "Context leak detected, msgtracer returned -1\n",
      "Context leak detected, msgtracer returned -1\n",
      "Context leak detected, msgtracer returned -1\n",
      "Context leak detected, msgtracer returned -1\n",
      "Context leak detected, msgtracer returned -1\n",
      "Context leak detected, msgtracer returned -1\n",
      "Context leak detected, msgtracer returned -1\n",
      "Context leak detected, msgtracer returned -1\n",
      "Context leak detected, msgtracer returned -1\n",
      "Context leak detected, msgtracer returned -1\n",
      "Context leak detected, msgtracer returned -1\n",
      "Context leak detected, msgtracer returned -1\n",
      "Context leak detected, msgtracer returned -1\n",
      "Context leak detected, msgtracer returned -1\n",
      "Context leak detected, msgtracer returned -1\n",
      "Context leak detected, msgtracer returned -1\n",
      "Context leak detected, msgtracer returned -1\n"
     ]
    }
   ],
   "source": [
    "collection.add(\n",
    "    documents=documents,\n",
    "    metadatas=metadatas,\n",
    "    ids=ids\n",
    ")"
   ]
  },
  {
   "cell_type": "markdown",
   "metadata": {},
   "source": [
    "**Query collection**"
   ]
  },
  {
   "cell_type": "code",
   "execution_count": 63,
   "metadata": {},
   "outputs": [
    {
     "data": {
      "text/plain": [
       "{'ids': [['dress_3456', 'sneakers_9812']],\n",
       " 'distances': [[1.2541424036026, 1.38572096824646]],\n",
       " 'metadatas': [[{'brand': 'Sunshine Designs',\n",
       "    'category': 'Clothing',\n",
       "    'image_url': 'https://example.com/summer_dress.jpg',\n",
       "    'price': 79.99},\n",
       "   {'brand': 'Swift Kicks',\n",
       "    'category': 'Shoes',\n",
       "    'image_url': 'https://example.com/mesh_sneakers.jpg',\n",
       "    'price': 64.99}]],\n",
       " 'embeddings': None,\n",
       " 'documents': [['Elegant summer dress made from flowing fabric, featuring a floral print design.',\n",
       "   'Comfortable and stylish sneakers with breathable mesh uppers and supportive soles.']],\n",
       " 'uris': None,\n",
       " 'data': None}"
      ]
     },
     "execution_count": 63,
     "metadata": {},
     "output_type": "execute_result"
    }
   ],
   "source": [
    "results = collection.query(\n",
    "    query_texts=[\"what to wear on birthday party?\"],\n",
    "    n_results=2\n",
    ")\n",
    "results"
   ]
  },
  {
   "cell_type": "markdown",
   "metadata": {},
   "source": [
    "**Query collection with filtering results**"
   ]
  },
  {
   "cell_type": "code",
   "execution_count": 64,
   "metadata": {},
   "outputs": [
    {
     "data": {
      "text/plain": [
       "{'ids': [['dress_3456', 'sneakers_9812']],\n",
       " 'distances': None,\n",
       " 'metadatas': [[{'brand': 'Sunshine Designs',\n",
       "    'category': 'Clothing',\n",
       "    'image_url': 'https://example.com/summer_dress.jpg',\n",
       "    'price': 79.99},\n",
       "   {'brand': 'Swift Kicks',\n",
       "    'category': 'Shoes',\n",
       "    'image_url': 'https://example.com/mesh_sneakers.jpg',\n",
       "    'price': 64.99}]],\n",
       " 'embeddings': None,\n",
       " 'documents': [['Elegant summer dress made from flowing fabric, featuring a floral print design.',\n",
       "   'Comfortable and stylish sneakers with breathable mesh uppers and supportive soles.']],\n",
       " 'uris': None,\n",
       " 'data': None}"
      ]
     },
     "execution_count": 64,
     "metadata": {},
     "output_type": "execute_result"
    }
   ],
   "source": [
    "results = collection.query(\n",
    "    query_texts=[\"what to wear on birthday party?\"],\n",
    "    n_results=2,\n",
    "    include=['documents', 'metadatas']\n",
    ")\n",
    "results"
   ]
  },
  {
   "cell_type": "markdown",
   "metadata": {},
   "source": [
    "**Query collection with 'where' clause**"
   ]
  },
  {
   "cell_type": "code",
   "execution_count": 65,
   "metadata": {},
   "outputs": [],
   "source": [
    "where_clause = {\n",
    "    'category': 'Clothing'\n",
    "}"
   ]
  },
  {
   "cell_type": "code",
   "execution_count": 66,
   "metadata": {},
   "outputs": [
    {
     "data": {
      "text/plain": [
       "{'ids': [['dress_3456']],\n",
       " 'distances': None,\n",
       " 'metadatas': [[{'brand': 'Sunshine Designs',\n",
       "    'category': 'Clothing',\n",
       "    'image_url': 'https://example.com/summer_dress.jpg',\n",
       "    'price': 79.99}]],\n",
       " 'embeddings': None,\n",
       " 'documents': [['Elegant summer dress made from flowing fabric, featuring a floral print design.']],\n",
       " 'uris': None,\n",
       " 'data': None}"
      ]
     },
     "execution_count": 66,
     "metadata": {},
     "output_type": "execute_result"
    }
   ],
   "source": [
    "results = collection.query(\n",
    "    query_texts=[\"what to wear on birthday party?\"],\n",
    "    n_results=2,\n",
    "    include=['documents', 'metadatas'],\n",
    "    where=where_clause\n",
    ")\n",
    "results"
   ]
  },
  {
   "cell_type": "markdown",
   "metadata": {},
   "source": [
    "**where_document function to filter documents within their content and metadata**"
   ]
  },
  {
   "cell_type": "code",
   "execution_count": 69,
   "metadata": {},
   "outputs": [
    {
     "data": {
      "text/plain": [
       "{'ids': [['sneakers_9812']],\n",
       " 'distances': None,\n",
       " 'metadatas': [[{'brand': 'Swift Kicks',\n",
       "    'category': 'Shoes',\n",
       "    'image_url': 'https://example.com/mesh_sneakers.jpg',\n",
       "    'price': 64.99}]],\n",
       " 'embeddings': None,\n",
       " 'documents': [['Comfortable and stylish sneakers with breathable mesh uppers and supportive soles.']],\n",
       " 'uris': None,\n",
       " 'data': None}"
      ]
     },
     "execution_count": 69,
     "metadata": {},
     "output_type": "execute_result"
    }
   ],
   "source": [
    "results = collection.query(\n",
    "    query_texts=[\"what to wear on birthday party?\"],\n",
    "    n_results=2,\n",
    "    include=['documents', 'metadatas'],\n",
    "    where_document={\"$contains\":\"sneakers\"}\n",
    ")\n",
    "results"
   ]
  },
  {
   "cell_type": "code",
   "execution_count": 70,
   "metadata": {},
   "outputs": [
    {
     "data": {
      "text/plain": [
       "{'ids': [['dress_3456', 'watch_0031']],\n",
       " 'distances': None,\n",
       " 'metadatas': [[{'brand': 'Sunshine Designs',\n",
       "    'category': 'Clothing',\n",
       "    'image_url': 'https://example.com/summer_dress.jpg',\n",
       "    'price': 79.99},\n",
       "   {'brand': 'Timely Co.',\n",
       "    'category': 'Accessories',\n",
       "    'image_url': 'https://example.com/stainless_watch.jpg',\n",
       "    'price': 129.99}]],\n",
       " 'embeddings': None,\n",
       " 'documents': [['Elegant summer dress made from flowing fabric, featuring a floral print design.',\n",
       "   'Classic stainless steel watch with a timeless design and leather strap.']],\n",
       " 'uris': None,\n",
       " 'data': None}"
      ]
     },
     "execution_count": 70,
     "metadata": {},
     "output_type": "execute_result"
    }
   ],
   "source": [
    "results = collection.query(\n",
    "    query_texts=[\"what to wear on birthday party?\"],\n",
    "    n_results=2,\n",
    "    include=['documents', 'metadatas'],\n",
    "    where_document={\"$not_contains\":\"sneakers\"}\n",
    ")\n",
    "results"
   ]
  },
  {
   "cell_type": "markdown",
   "metadata": {},
   "source": [
    "**Delete the collection**"
   ]
  },
  {
   "cell_type": "code",
   "execution_count": 54,
   "metadata": {},
   "outputs": [],
   "source": [
    "chroma_client.delete_collection(name='product_collection')"
   ]
  },
  {
   "cell_type": "code",
   "execution_count": null,
   "metadata": {},
   "outputs": [],
   "source": []
  }
 ],
 "metadata": {
  "kernelspec": {
   "display_name": "zerotoaihero",
   "language": "python",
   "name": "python3"
  },
  "language_info": {
   "codemirror_mode": {
    "name": "ipython",
    "version": 3
   },
   "file_extension": ".py",
   "mimetype": "text/x-python",
   "name": "python",
   "nbconvert_exporter": "python",
   "pygments_lexer": "ipython3",
   "version": "3.11.7"
  }
 },
 "nbformat": 4,
 "nbformat_minor": 2
}
